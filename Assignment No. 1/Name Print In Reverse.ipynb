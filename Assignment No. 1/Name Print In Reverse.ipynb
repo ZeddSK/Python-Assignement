{
 "cells": [
  {
   "cell_type": "code",
   "execution_count": 4,
   "id": "1e386654",
   "metadata": {},
   "outputs": [
    {
     "name": "stdout",
     "output_type": "stream",
     "text": [
      "Enter Your First Name Zahid\n",
      "Enter Your First Name Sheikh\n",
      "Sheikh Zahid\n"
     ]
    }
   ],
   "source": [
    "x = input(\"Enter Your First Name \")\n",
    "y = input(\"Enter Your First Name \")\n",
    "z = y +\" \"+ x\n",
    "print(z)"
   ]
  },
  {
   "cell_type": "code",
   "execution_count": null,
   "id": "61baeb62",
   "metadata": {},
   "outputs": [],
   "source": []
  },
  {
   "cell_type": "code",
   "execution_count": null,
   "id": "ebb797c8",
   "metadata": {},
   "outputs": [],
   "source": []
  }
 ],
 "metadata": {
  "kernelspec": {
   "display_name": "Python 3 (ipykernel)",
   "language": "python",
   "name": "python3"
  },
  "language_info": {
   "codemirror_mode": {
    "name": "ipython",
    "version": 3
   },
   "file_extension": ".py",
   "mimetype": "text/x-python",
   "name": "python",
   "nbconvert_exporter": "python",
   "pygments_lexer": "ipython3",
   "version": "3.9.7"
  }
 },
 "nbformat": 4,
 "nbformat_minor": 5
}
