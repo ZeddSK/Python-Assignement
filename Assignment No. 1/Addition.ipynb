{
 "cells": [
  {
   "cell_type": "code",
   "execution_count": 3,
   "id": "e6d70a82",
   "metadata": {},
   "outputs": [
    {
     "name": "stdout",
     "output_type": "stream",
     "text": [
      "Enter First No: 754\n",
      "Enter Second No: 958\n",
      "Addition is:  1712\n"
     ]
    }
   ],
   "source": [
    "x = int(input(\"Enter First No: \"))\n",
    "y = int(input(\"Enter Second No: \"))\n",
    "z = x + y\n",
    "print(\"Addition is: \",z)"
   ]
  },
  {
   "cell_type": "code",
   "execution_count": null,
   "id": "9e47bb74",
   "metadata": {},
   "outputs": [],
   "source": []
  }
 ],
 "metadata": {
  "kernelspec": {
   "display_name": "Python 3 (ipykernel)",
   "language": "python",
   "name": "python3"
  },
  "language_info": {
   "codemirror_mode": {
    "name": "ipython",
    "version": 3
   },
   "file_extension": ".py",
   "mimetype": "text/x-python",
   "name": "python",
   "nbconvert_exporter": "python",
   "pygments_lexer": "ipython3",
   "version": "3.9.7"
  }
 },
 "nbformat": 4,
 "nbformat_minor": 5
}
