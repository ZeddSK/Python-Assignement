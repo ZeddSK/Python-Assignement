{
 "cells": [
  {
   "cell_type": "code",
   "execution_count": 1,
   "id": "e46e960b",
   "metadata": {},
   "outputs": [
    {
     "name": "stdout",
     "output_type": "stream",
     "text": [
      "Enter Radius of Circle: 4\n",
      "Area of Circle is: 50.256\n"
     ]
    }
   ],
   "source": [
    "x = int(input(\"Enter Radius of Circle: \"))\n",
    "y = 3.141*x*x\n",
    "print(\"Area of Circle is:\", y)"
   ]
  },
  {
   "cell_type": "code",
   "execution_count": null,
   "id": "19edca9b",
   "metadata": {},
   "outputs": [],
   "source": []
  },
  {
   "cell_type": "code",
   "execution_count": null,
   "id": "43d1708b",
   "metadata": {},
   "outputs": [],
   "source": []
  }
 ],
 "metadata": {
  "kernelspec": {
   "display_name": "Python 3 (ipykernel)",
   "language": "python",
   "name": "python3"
  },
  "language_info": {
   "codemirror_mode": {
    "name": "ipython",
    "version": 3
   },
   "file_extension": ".py",
   "mimetype": "text/x-python",
   "name": "python",
   "nbconvert_exporter": "python",
   "pygments_lexer": "ipython3",
   "version": "3.9.7"
  }
 },
 "nbformat": 4,
 "nbformat_minor": 5
}
